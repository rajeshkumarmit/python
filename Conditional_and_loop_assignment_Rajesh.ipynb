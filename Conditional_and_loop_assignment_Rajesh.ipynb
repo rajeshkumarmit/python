{
 "cells": [
  {
   "cell_type": "markdown",
   "metadata": {},
   "source": [
    "### If - elif - else statement"
   ]
  },
  {
   "cell_type": "code",
   "execution_count": 7,
   "metadata": {},
   "outputs": [
    {
     "name": "stdout",
     "output_type": "stream",
     "text": [
      "Enter a number12\n",
      "Number outside the range\n"
     ]
    }
   ],
   "source": [
    "#W. A P. which takes one number from 0 to 9 from the user and prints it in the word. And if the word is not from 0 to 9 then\n",
    "#it should print that number is outside of the range and program should exit.\n",
    "# For exapmple:- \n",
    "# input = 1\n",
    "# output = one\n",
    "\n",
    "num=eval(input(\"Enter a number\"))\n",
    "if num>9:\n",
    "    print(\"Number outside the range\")\n",
    "if num==1:\n",
    "    print(\"One\")\n",
    "elif num==2:\n",
    "    print(\"Two\")\n",
    "elif num==3:\n",
    "    print(\"Three\")\n",
    "elif num==4:\n",
    "    print(\"Four\")\n",
    "elif num==5:\n",
    "    print(\"Five\")\n",
    "elif num==6:\n",
    "    print(\"Six\")\n",
    "elif num==7:\n",
    "    print(\"Seven\")\n",
    "elif num==8:\n",
    "    print(\"Eight\")\n",
    "elif num==9:\n",
    "    print(\"Nine\")"
   ]
  },
  {
   "cell_type": "code",
   "execution_count": 9,
   "metadata": {},
   "outputs": [
    {
     "name": "stdout",
     "output_type": "stream",
     "text": [
      "Enter number1:10\n",
      "Enter number2:5\n",
      "Enter number from 1 to 8 to perform operation:7\n",
      "100000\n"
     ]
    }
   ],
   "source": [
    "#W. A P. to implement calculator but the operation to be done and two numbers will be taken as input from user:-\n",
    "#Operation console should show below:-\n",
    "#     Please select any one operation from below:-\n",
    "#         * To add enter 1\n",
    "#         * to subtract enter 2\n",
    "#         * To multiply enter 3\n",
    "#         * To divide enter 4\n",
    "#         * To divide and find quotient enter 5\n",
    "#         * To divide and find remainder enter 6\n",
    "#         * To divide and find num1 to the power of num2 enter 7\n",
    "#         * To Come out of the program enter 8\n",
    "\n",
    "num1=eval(input(\"Enter number1:\"))\n",
    "num2=eval(input(\"Enter number2:\"))\n",
    "op =eval(input(\"Enter number from 1 to 8 to perform operation:\"))\n",
    "if op>8:\n",
    "    print(\"Not supported operation\")\n",
    "if op==1:\n",
    "    print(num1+num2)\n",
    "if op==2:\n",
    "    print(num1-num2)\n",
    "if op==3:\n",
    "    print(num1*num2)\n",
    "if op==4:\n",
    "    print(num1//num2)\n",
    "if op==5:\n",
    "    print(num1/num2)\n",
    "if op==6:\n",
    "    print(num1%num2)\n",
    "if op==7:\n",
    "    print(pow(num1,num2))\n",
    "if op==8:\n",
    "    print(\"Exit\")"
   ]
  },
  {
   "cell_type": "code",
   "execution_count": 17,
   "metadata": {},
   "outputs": [
    {
     "name": "stdout",
     "output_type": "stream",
     "text": [
      "Enter a year2006\n",
      "Not a leap year\n"
     ]
    }
   ],
   "source": [
    "#W A P to check whether a year entered by user is an leap year or not?\n",
    "#Check with below input:-\n",
    "    #leap year:- 2012, 1968, 2004, 1200, 1600,2400\n",
    "    #Non-lear year:- 1971, 2006, 1700,1800,1900\n",
    "    \n",
    "#A year is a leap year if the following conditions are satisfied: \n",
    "\n",
    "#The year is multiple of 400.\n",
    "#The year is multiple of 4 and not multiple of 100.\n",
    "\n",
    "\n",
    "a=eval(input('Enter a year'))\n",
    "if (a%400==0 or (a%4==0 and a%100!=0)):\n",
    "        print(\"It's a leap year\")\n",
    "else:\n",
    "    print(\"Not a leap year\")"
   ]
  },
  {
   "cell_type": "code",
   "execution_count": 19,
   "metadata": {},
   "outputs": [
    {
     "name": "stdout",
     "output_type": "stream",
     "text": [
      "Enter a number10\n",
      "Number is even\n"
     ]
    }
   ],
   "source": [
    "#W A P which takes one number from the user and checks whether it is an even or odd number?, If it even then prints number is \n",
    "#even number else prints that number is odd number.\n",
    "\n",
    "num = eval(input('Enter a number'))\n",
    "if num%2==0:\n",
    "    print(\"Number is even\")\n",
    "else:\n",
    "    print(\"Number is odd\")"
   ]
  },
  {
   "cell_type": "code",
   "execution_count": 24,
   "metadata": {},
   "outputs": [
    {
     "name": "stdout",
     "output_type": "stream",
     "text": [
      "Enter a numbers10,10\n",
      "Numbers are equal\n",
      "10\n"
     ]
    }
   ],
   "source": [
    "#W A P which takes two numbers from the user and prints below output:-\n",
    "#     1. num1 is greater than num2 if num1 is greater than num2\n",
    "#     2. num1 is smaller than num2 if num1 is smaller than num2\n",
    "#     3. num1 is equal to num2 if num1 and num2 are equal\n",
    "\n",
    "#Note:- 1. Do this problem using if - else \n",
    "#       2. Do this using ternary operator\n",
    "\n",
    "num1,num2=eval(input('Enter a numbers'))\n",
    "if num1>num2:\n",
    "    print(str(num1) + \"is greater\")\n",
    "elif num1<num2:\n",
    "    print(str(num2) + \"is greater\")\n",
    "else:\n",
    "    print(\"Numbers are equal\")\n",
    "    \n",
    "#       2. Do this using ternary operator\n",
    "\n",
    "max = num1 if num1>num2 else num2\n",
    "print(max)\n",
    "    "
   ]
  },
  {
   "cell_type": "code",
   "execution_count": 27,
   "metadata": {},
   "outputs": [
    {
     "name": "stdout",
     "output_type": "stream",
     "text": [
      "Enter the numbers:30,20,10\n",
      "num1 is greater\n"
     ]
    }
   ],
   "source": [
    "#W A P which takes three numbers from the user and prints below output:-\n",
    "#     1. num1 is greater than num2 and num3 if num1 is greater than num2 and num3\n",
    "#     2. num2 is greater than num1 and num3 if num2 is greater than num1 and num3\n",
    "#     3. num3 is greater than num1 and num2 if num3 is greater than num1 and num2\n",
    "\n",
    "#Note:- 1. Do this problem using if - elif - else \n",
    "#       2. Do this using ternary operator\n",
    "\n",
    "# a = a if a>b else b\n",
    "\n",
    "num1,num2,num3 = eval(input(\"Enter the numbers:\"))\n",
    "if num1>num2 and num1>num3:\n",
    "    print(\"num1 is greater\")\n",
    "elif num2>num3 and num2>num1:\n",
    "    print(\"num2 is greater\")\n",
    "else:\n",
    "    print(\"num3 is greater\")"
   ]
  },
  {
   "cell_type": "markdown",
   "metadata": {},
   "source": [
    "### Loops - for loop, while loop"
   ]
  },
  {
   "cell_type": "code",
   "execution_count": 33,
   "metadata": {},
   "outputs": [
    {
     "name": "stdout",
     "output_type": "stream",
     "text": [
      "41\n"
     ]
    }
   ],
   "source": [
    "#Write a Python program to find the length of the my_str using loop:-\n",
    "\n",
    "#Input:- 'Write a Python program to find the length of the my_str'\n",
    "#Output:- 55\n",
    "\n",
    "str1= 'Write a Python program to find the length of the my_str'\n",
    "count=0\n",
    "for i in str1:\n",
    "    count+= 1\n",
    "print(count)\n",
    "    "
   ]
  },
  {
   "cell_type": "code",
   "execution_count": 34,
   "metadata": {},
   "outputs": [
    {
     "name": "stdout",
     "output_type": "stream",
     "text": [
      "9\n"
     ]
    }
   ],
   "source": [
    "#Write a Python program to find the total number of times letter 'p' is appeared in the below string using loop:-\n",
    "    \n",
    "#Input:- 'peter piper picked a peck of pickled peppers.\\n'\n",
    "#Output:- 9\n",
    "\n",
    "str1='peter piper picked a peck of pickled peppers.\\n'\n",
    "count=0\n",
    "for i in str1:\n",
    "    if i=='p':\n",
    "        count+=1\n",
    "print(count)"
   ]
  },
  {
   "cell_type": "code",
   "execution_count": 46,
   "metadata": {},
   "outputs": [
    {
     "name": "stdout",
     "output_type": "stream",
     "text": [
      "0\n",
      "6\n",
      "8\n",
      "12\n",
      "21\n",
      "29\n",
      "37\n",
      "39\n",
      "40\n"
     ]
    }
   ],
   "source": [
    "#Write a Python Program, to print all the indexes of all occurences of letter 'p' appeared in the string using loop:-\n",
    "    \n",
    "#Input:- 'peter piper picked a peck of pickled peppers.'\n",
    "#Output:- \n",
    "# 0\n",
    "# 6\n",
    "# 8\n",
    "# 12\n",
    "# 21\n",
    "# 29\n",
    "# 37\n",
    "# 39\n",
    "# 40\n",
    "\n",
    "str1='peter piper picked a peck of pickled peppers.\\n'\n",
    "#str1.find('p')\n",
    "\n",
    "for i in range(len(str1)):\n",
    "    if str1[i]=='p':\n",
    "        print(i)\n",
    "#print(count)\n",
    "\n",
    "#dir(str1)"
   ]
  },
  {
   "cell_type": "code",
   "execution_count": 128,
   "metadata": {},
   "outputs": [
    {
     "name": "stdout",
     "output_type": "stream",
     "text": [
      "['peter piper picked a peck of pickled peppers pick']\n"
     ]
    }
   ],
   "source": [
    "#Write a python program to find below output using loop:-\n",
    "\n",
    "#Input:- 'peter piper picked a peck of pickled peppers.'\n",
    "#Output:- ['peter', 'piper', 'picked', 'a', 'peck', 'of', 'pickled', 'peppers']\n",
    "\n",
    "str1='peter piper picked a peck of pickled peppers pick.'\n",
    "lst=[]\n",
    "substr=''\n",
    "for i in range(len(str1)):\n",
    "    if str1[i]!='' and str1[i]!='.':\n",
    "        substr +=str1[i]\n",
    "    if str1[i]== '' or str1[i]== '.' or i==len(str1)-1:\n",
    "        lst.append(substr)\n",
    "        substr= ''\n",
    "print(lst)"
   ]
  },
  {
   "cell_type": "code",
   "execution_count": 136,
   "metadata": {},
   "outputs": [
    {
     "name": "stdout",
     "output_type": "stream",
     "text": [
      "peter piper picked a peck of pickled peppers\n"
     ]
    }
   ],
   "source": [
    "#Write a python program to find below output using loop:-\n",
    "\n",
    "#Input:- 'peter piper picked a peck of pickled peppers.'\n",
    "#Output:- 'peppers pickled of peck a picked piper peter'\n",
    "\n",
    "str1='peter piper picked a peck of pickled peppers.'\n",
    "lst=[]\n",
    "substr=''\n",
    "for i in range(len(str1)):\n",
    "    if str1[i]!='' and str1[i]!='.':\n",
    "        substr +=str1[i]\n",
    "    if str1[i]== '' or str1[i]== '.' or i==len(str1)-1:\n",
    "        lst.append(substr)\n",
    "        substr= ''\n",
    "print(''.join(lst[::-1]))\n"
   ]
  },
  {
   "cell_type": "code",
   "execution_count": 135,
   "metadata": {},
   "outputs": [
    {
     "name": "stdout",
     "output_type": "stream",
     "text": [
      "\n"
     ]
    }
   ],
   "source": [
    "#Write a python program to find below output using loop:-\n",
    "\n",
    "#Input:- 'peter piper picked a peck of pickled peppers.'\n",
    "#Output:- '.sreppep delkcip fo kcep a dekcip repip retep'\n",
    "\n",
    "str1='peter piper picked a peck of pickled peppers.'\n",
    "str2=str1[::-1]\n",
    "lst=[]\n",
    "substr=''\n",
    "for i in range(len(str2)):\n",
    "    if str2[i]!='':\n",
    "        substr +=str2[i]\n",
    "    if str2[i]== '':\n",
    "        lst.append(substr)\n",
    "        substr= ''\n",
    "print(''.join(lst))\n"
   ]
  },
  {
   "cell_type": "code",
   "execution_count": 90,
   "metadata": {},
   "outputs": [
    {
     "name": "stdout",
     "output_type": "stream",
     "text": [
      "sreppep delkcip fo kcep a dekcip repip retep\n"
     ]
    }
   ],
   "source": [
    "#Write a python program to find below output using loop:-\n",
    "\n",
    "#Input:- 'peter piper picked a peck of pickled peppers.'\n",
    "#Output:- 'retep repip dekcip a kcep fo delkcip sreppep'\n",
    "\n",
    "str1='peter piper picked a peck of pickled peppers.'\n",
    "lst=[]\n",
    "substr=''\n",
    "for i in range(len(str1)):\n",
    "    if str1[i]!='' and str1[i]!='.':\n",
    "        substr +=str1[i]\n",
    "    if str1[i]== '' or str1[i]== '.':\n",
    "        lst.append(substr[::-1])\n",
    "        substr= ''\n",
    "print(''.join(lst))"
   ]
  },
  {
   "cell_type": "code",
   "execution_count": 91,
   "metadata": {},
   "outputs": [
    {
     "name": "stdout",
     "output_type": "stream",
     "text": [
      "['peter piper picked a peck of pickled peppers']\n",
      "Peter Piper Picked A Peck Of Pickled Peppers\n"
     ]
    }
   ],
   "source": [
    "#Write a python program to find below output using loop:-\n",
    "\n",
    "#Input:- 'peter piper picked a peck of pickled peppers.'\n",
    "#Output:- 'Peter Piper Picked A Peck Of Pickled Peppers'\n",
    "\n",
    "str1='peter piper picked a peck of pickled peppers.'\n",
    "lst=[]\n",
    "substr=''\n",
    "for i in range(len(str1)):\n",
    "    if str1[i]!='' and str1[i]!='.':\n",
    "        substr +=str1[i]\n",
    "    if str1[i]== '' or str1[i]== '.':\n",
    "        lst.append(substr)\n",
    "        substr= ''\n",
    "print(lst)\n",
    "lst1=[]\n",
    "for j in lst:\n",
    "    lst1.append(j.title())\n",
    "    \n",
    "print(''.join(lst1))"
   ]
  },
  {
   "cell_type": "code",
   "execution_count": 86,
   "metadata": {},
   "outputs": [
    {
     "name": "stdout",
     "output_type": "stream",
     "text": [
      "Peter Piper Picked A Peck Of Pickled Peppers\n"
     ]
    }
   ],
   "source": [
    "#Write a python program to find below output using loop:-\n",
    "\n",
    "#Input:- 'Peter Piper Picked A Peck Of Pickled Peppers.'\n",
    "#Output:- 'Peter piper picked a peck of pickled peppers'\n",
    "\n",
    "str1='peter piper picked a peck of pickled peppers.'\n",
    "lst=[]\n",
    "substr=''\n",
    "for i in range(len(str1)):\n",
    "    if str1[i]!='' and str1[i]!='.':\n",
    "        substr +=str1[i]\n",
    "    if str1[i]== '' or str1[i]== '.':\n",
    "        lst.append(substr)\n",
    "        substr= ''\n",
    "        \n",
    "lst[0]=lst[0].title()\n",
    "print(''.join(lst))"
   ]
  },
  {
   "cell_type": "code",
   "execution_count": 100,
   "metadata": {},
   "outputs": [
    {
     "name": "stdout",
     "output_type": "stream",
     "text": [
      "29\n"
     ]
    }
   ],
   "source": [
    "#Write a python program to implement index method using loop. If sub_str is found in my_str then it will print the index\n",
    "# of first occurrence of first character of matching string in my_str:-\n",
    "\n",
    "#Input:- my_str = 'Peter Piper Picked A Peck Of Pickled Peppers.', sub_str = 'Pickl'\n",
    "#Output:- 29\n",
    "\n",
    "str1='Peter Piper Picked A Peck Of Pickled Peppers.'\n",
    "temp_str=''\n",
    "sub_str='Pickl'\n",
    "for i in range(len(str1)):\n",
    "    if str1[i]!=' ':\n",
    "        temp_str +=str1[i]\n",
    "        if temp_str==sub_str:\n",
    "            print(i-(len(temp_str)-1))\n",
    "            break\n",
    "    if str1[i]== ' ':\n",
    "#        lst.append(temp_str)\n",
    "        temp_str= ''"
   ]
  },
  {
   "cell_type": "code",
   "execution_count": 137,
   "metadata": {},
   "outputs": [
    {
     "name": "stdout",
     "output_type": "stream",
     "text": [
      "Peter Piper Packed A Peck Of Pickled Peppers.\n"
     ]
    }
   ],
   "source": [
    "#Write a python program to implement replace method using loop. If sub_str is found in my_str then it will replace the first \n",
    "#occurrence of sub_str with new_str else it will will print sub_str not found:-\n",
    "\n",
    "#Input:- my_str = 'Peter Piper Picked A Peck Of Pickled Peppers.', sub_str = 'Peck', new_str = 'Pack'\n",
    "#Output:- 'Peter Piper Picked A Pack Of Pickled Peppers.'\n",
    "\n",
    "str1='Peter Piper Picked A Peck Of Pickled Peppers.'\n",
    "temp_str=''\n",
    "sub_str='Pick'\n",
    "new_str='Pack'\n",
    "lst=[]\n",
    "flag=True\n",
    "for i in range(len(str1)):\n",
    "    if str1[i]!=' ':\n",
    "        temp_str +=str1[i]\n",
    "        if temp_str==sub_str and flag==True:\n",
    "            temp_str=new_str\n",
    "            flag=False\n",
    "    if str1[i]== ' ' or str1[i]== '.' or i==len(str1)-1:\n",
    "        lst.append(temp_str)\n",
    "        temp_str= ''\n",
    "        \n",
    "print(' '.join(lst))"
   ]
  },
  {
   "cell_type": "code",
   "execution_count": 118,
   "metadata": {},
   "outputs": [
    {
     "name": "stdout",
     "output_type": "stream",
     "text": [
      "21\n",
      "24\n",
      "Peter Piper Picked A Peck Of Pickled Peppers.\n",
      "*********************Peck********************\n"
     ]
    }
   ],
   "source": [
    "#Write a python program to find below output (implements rjust and ljust) using loop:-\n",
    "\n",
    "#Input:- 'Peter Piper Picked A Peck Of Pickled Peppers.', sub_str = 'Peck', \n",
    "#Output:- '*********************Peck********************'\n",
    "\n",
    "str1='Peter Piper Picked A Peck Of Pickled Peppers.'\n",
    "str2=''\n",
    "temp_str=''\n",
    "sub_str='Peck'\n",
    "new_str='*'\n",
    "for i in range(len(str1)):\n",
    "    if str1[i]!=' ':\n",
    "        temp_str +=str1[i]\n",
    "        if temp_str==sub_str:\n",
    "            print(i-(len(temp_str)-1))\n",
    "            print(i)\n",
    "            for j in range(0,i-(len(temp_str)-1)):\n",
    "                str2 += new_str\n",
    "            str2 += sub_str\n",
    "            for k in range(i,(len(str1)-1)):\n",
    "                str2 += new_str                           \n",
    "                \n",
    "    if str1[i]== ' ':\n",
    "        temp_str= ''\n",
    "\n",
    "print(str1)\n",
    "print(str2)"
   ]
  },
  {
   "cell_type": "code",
   "execution_count": 152,
   "metadata": {},
   "outputs": [
    {
     "name": "stdout",
     "output_type": "stream",
     "text": [
      "[' This', 'is', ' Python class']\n"
     ]
    }
   ],
   "source": [
    "#Write a python program to find below output using loop:-\n",
    "\n",
    "#Input:- 'This is Python class', sep = ' is', \n",
    "#Output:- ['This', 'is', 'Python class']\n",
    "\n",
    "str1='This is Python class'\n",
    "lst=[]\n",
    "str2=''\n",
    "str3=''\n",
    "temp_str=''\n",
    "sub_str='is'\n",
    "for i in range(len(str1)):\n",
    "    if str1[i]!=' ':        \n",
    "        temp_str +=str1[i]        \n",
    "        if temp_str==sub_str:\n",
    "            lst.append(str2)\n",
    "            lst.append(temp_str)            \n",
    "            for k in range(i+1,len(str1)):\n",
    "                str3 += str1[k]                           \n",
    "            lst.append(str3)\n",
    "            break\n",
    "    if str1[i]== ' ':\n",
    "        str2+= str1[i]+temp_str\n",
    "        temp_str= ''\n",
    "\n",
    "print(lst)"
   ]
  },
  {
   "cell_type": "code",
   "execution_count": null,
   "metadata": {},
   "outputs": [],
   "source": []
  }
 ],
 "metadata": {
  "kernelspec": {
   "display_name": "Python 3",
   "language": "python",
   "name": "python3"
  },
  "language_info": {
   "codemirror_mode": {
    "name": "ipython",
    "version": 3
   },
   "file_extension": ".py",
   "mimetype": "text/x-python",
   "name": "python",
   "nbconvert_exporter": "python",
   "pygments_lexer": "ipython3",
   "version": "3.8.5"
  }
 },
 "nbformat": 4,
 "nbformat_minor": 4
}
